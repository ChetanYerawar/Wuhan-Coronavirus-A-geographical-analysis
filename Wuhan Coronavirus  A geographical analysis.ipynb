{
 "cells": [
  {
   "cell_type": "markdown",
   "metadata": {},
   "source": [
    "### Importing libraries and loading the data"
   ]
  },
  {
   "cell_type": "code",
   "execution_count": 1,
   "metadata": {},
   "outputs": [],
   "source": [
    "import numpy as np\n",
    "import pandas as pd\n",
    "import matplotlib.pyplot as plt\n",
    "import seaborn as sns"
   ]
  },
  {
   "cell_type": "code",
   "execution_count": 2,
   "metadata": {},
   "outputs": [],
   "source": [
    "#reading data from the csv file\n",
    "data= pd.read_csv(\"C:\\\\Users\\\\LENOVO\\\\Desktop\\\\NLP code & Data Set\\\\2019_nCoV_data.csv\")"
   ]
  },
  {
   "cell_type": "code",
   "execution_count": 3,
   "metadata": {},
   "outputs": [
    {
     "data": {
      "text/plain": [
       "(1345, 8)"
      ]
     },
     "execution_count": 3,
     "metadata": {},
     "output_type": "execute_result"
    }
   ],
   "source": [
    "#checking the number of rows and columns\n",
    "data.shape"
   ]
  },
  {
   "cell_type": "code",
   "execution_count": 4,
   "metadata": {},
   "outputs": [
    {
     "data": {
      "text/html": [
       "<div>\n",
       "<style scoped>\n",
       "    .dataframe tbody tr th:only-of-type {\n",
       "        vertical-align: middle;\n",
       "    }\n",
       "\n",
       "    .dataframe tbody tr th {\n",
       "        vertical-align: top;\n",
       "    }\n",
       "\n",
       "    .dataframe thead th {\n",
       "        text-align: right;\n",
       "    }\n",
       "</style>\n",
       "<table border=\"1\" class=\"dataframe\">\n",
       "  <thead>\n",
       "    <tr style=\"text-align: right;\">\n",
       "      <th></th>\n",
       "      <th>Sno</th>\n",
       "      <th>Date</th>\n",
       "      <th>Province/State</th>\n",
       "      <th>Country</th>\n",
       "      <th>Last Update</th>\n",
       "      <th>Confirmed</th>\n",
       "      <th>Deaths</th>\n",
       "      <th>Recovered</th>\n",
       "    </tr>\n",
       "  </thead>\n",
       "  <tbody>\n",
       "    <tr>\n",
       "      <th>0</th>\n",
       "      <td>1</td>\n",
       "      <td>01/22/2020 12:00:00</td>\n",
       "      <td>Anhui</td>\n",
       "      <td>China</td>\n",
       "      <td>01/22/2020 12:00:00</td>\n",
       "      <td>1.0</td>\n",
       "      <td>0.0</td>\n",
       "      <td>0.0</td>\n",
       "    </tr>\n",
       "    <tr>\n",
       "      <th>1</th>\n",
       "      <td>2</td>\n",
       "      <td>01/22/2020 12:00:00</td>\n",
       "      <td>Beijing</td>\n",
       "      <td>China</td>\n",
       "      <td>01/22/2020 12:00:00</td>\n",
       "      <td>14.0</td>\n",
       "      <td>0.0</td>\n",
       "      <td>0.0</td>\n",
       "    </tr>\n",
       "    <tr>\n",
       "      <th>2</th>\n",
       "      <td>3</td>\n",
       "      <td>01/22/2020 12:00:00</td>\n",
       "      <td>Chongqing</td>\n",
       "      <td>China</td>\n",
       "      <td>01/22/2020 12:00:00</td>\n",
       "      <td>6.0</td>\n",
       "      <td>0.0</td>\n",
       "      <td>0.0</td>\n",
       "    </tr>\n",
       "    <tr>\n",
       "      <th>3</th>\n",
       "      <td>4</td>\n",
       "      <td>01/22/2020 12:00:00</td>\n",
       "      <td>Fujian</td>\n",
       "      <td>China</td>\n",
       "      <td>01/22/2020 12:00:00</td>\n",
       "      <td>1.0</td>\n",
       "      <td>0.0</td>\n",
       "      <td>0.0</td>\n",
       "    </tr>\n",
       "    <tr>\n",
       "      <th>4</th>\n",
       "      <td>5</td>\n",
       "      <td>01/22/2020 12:00:00</td>\n",
       "      <td>Gansu</td>\n",
       "      <td>China</td>\n",
       "      <td>01/22/2020 12:00:00</td>\n",
       "      <td>0.0</td>\n",
       "      <td>0.0</td>\n",
       "      <td>0.0</td>\n",
       "    </tr>\n",
       "  </tbody>\n",
       "</table>\n",
       "</div>"
      ],
      "text/plain": [
       "   Sno                 Date Province/State Country          Last Update  \\\n",
       "0    1  01/22/2020 12:00:00          Anhui   China  01/22/2020 12:00:00   \n",
       "1    2  01/22/2020 12:00:00        Beijing   China  01/22/2020 12:00:00   \n",
       "2    3  01/22/2020 12:00:00      Chongqing   China  01/22/2020 12:00:00   \n",
       "3    4  01/22/2020 12:00:00         Fujian   China  01/22/2020 12:00:00   \n",
       "4    5  01/22/2020 12:00:00          Gansu   China  01/22/2020 12:00:00   \n",
       "\n",
       "   Confirmed  Deaths  Recovered  \n",
       "0        1.0     0.0        0.0  \n",
       "1       14.0     0.0        0.0  \n",
       "2        6.0     0.0        0.0  \n",
       "3        1.0     0.0        0.0  \n",
       "4        0.0     0.0        0.0  "
      ]
     },
     "execution_count": 4,
     "metadata": {},
     "output_type": "execute_result"
    }
   ],
   "source": [
    "data.head()"
   ]
  },
  {
   "cell_type": "code",
   "execution_count": 5,
   "metadata": {},
   "outputs": [
    {
     "data": {
      "text/html": [
       "<div>\n",
       "<style scoped>\n",
       "    .dataframe tbody tr th:only-of-type {\n",
       "        vertical-align: middle;\n",
       "    }\n",
       "\n",
       "    .dataframe tbody tr th {\n",
       "        vertical-align: top;\n",
       "    }\n",
       "\n",
       "    .dataframe thead th {\n",
       "        text-align: right;\n",
       "    }\n",
       "</style>\n",
       "<table border=\"1\" class=\"dataframe\">\n",
       "  <thead>\n",
       "    <tr style=\"text-align: right;\">\n",
       "      <th></th>\n",
       "      <th>Sno</th>\n",
       "      <th>Date</th>\n",
       "      <th>Province/State</th>\n",
       "      <th>Country</th>\n",
       "      <th>Last Update</th>\n",
       "      <th>Confirmed</th>\n",
       "      <th>Deaths</th>\n",
       "      <th>Recovered</th>\n",
       "    </tr>\n",
       "  </thead>\n",
       "  <tbody>\n",
       "    <tr>\n",
       "      <th>1340</th>\n",
       "      <td>1341</td>\n",
       "      <td>02/12/2020 22:00:00</td>\n",
       "      <td>Madison, WI</td>\n",
       "      <td>US</td>\n",
       "      <td>2020-02-05 21:53:02</td>\n",
       "      <td>1.0</td>\n",
       "      <td>0.0</td>\n",
       "      <td>0.0</td>\n",
       "    </tr>\n",
       "    <tr>\n",
       "      <th>1341</th>\n",
       "      <td>1342</td>\n",
       "      <td>02/12/2020 22:00:00</td>\n",
       "      <td>Orange, CA</td>\n",
       "      <td>US</td>\n",
       "      <td>2020-02-01 19:53:03</td>\n",
       "      <td>1.0</td>\n",
       "      <td>0.0</td>\n",
       "      <td>0.0</td>\n",
       "    </tr>\n",
       "    <tr>\n",
       "      <th>1342</th>\n",
       "      <td>1343</td>\n",
       "      <td>02/12/2020 22:00:00</td>\n",
       "      <td>San Diego County, CA</td>\n",
       "      <td>US</td>\n",
       "      <td>2020-02-11 01:23:05</td>\n",
       "      <td>1.0</td>\n",
       "      <td>0.0</td>\n",
       "      <td>0.0</td>\n",
       "    </tr>\n",
       "    <tr>\n",
       "      <th>1343</th>\n",
       "      <td>1344</td>\n",
       "      <td>02/12/2020 22:00:00</td>\n",
       "      <td>Seattle, WA</td>\n",
       "      <td>US</td>\n",
       "      <td>2020-02-09 07:03:04</td>\n",
       "      <td>1.0</td>\n",
       "      <td>0.0</td>\n",
       "      <td>1.0</td>\n",
       "    </tr>\n",
       "    <tr>\n",
       "      <th>1344</th>\n",
       "      <td>1345</td>\n",
       "      <td>02/12/2020 22:00:00</td>\n",
       "      <td>Tempe, AZ</td>\n",
       "      <td>US</td>\n",
       "      <td>2020-02-01 19:43:03</td>\n",
       "      <td>1.0</td>\n",
       "      <td>0.0</td>\n",
       "      <td>0.0</td>\n",
       "    </tr>\n",
       "  </tbody>\n",
       "</table>\n",
       "</div>"
      ],
      "text/plain": [
       "       Sno                 Date        Province/State Country  \\\n",
       "1340  1341  02/12/2020 22:00:00           Madison, WI      US   \n",
       "1341  1342  02/12/2020 22:00:00            Orange, CA      US   \n",
       "1342  1343  02/12/2020 22:00:00  San Diego County, CA      US   \n",
       "1343  1344  02/12/2020 22:00:00           Seattle, WA      US   \n",
       "1344  1345  02/12/2020 22:00:00             Tempe, AZ      US   \n",
       "\n",
       "              Last Update  Confirmed  Deaths  Recovered  \n",
       "1340  2020-02-05 21:53:02        1.0     0.0        0.0  \n",
       "1341  2020-02-01 19:53:03        1.0     0.0        0.0  \n",
       "1342  2020-02-11 01:23:05        1.0     0.0        0.0  \n",
       "1343  2020-02-09 07:03:04        1.0     0.0        1.0  \n",
       "1344  2020-02-01 19:43:03        1.0     0.0        0.0  "
      ]
     },
     "execution_count": 5,
     "metadata": {},
     "output_type": "execute_result"
    }
   ],
   "source": [
    "data.tail()"
   ]
  },
  {
   "cell_type": "code",
   "execution_count": 6,
   "metadata": {},
   "outputs": [
    {
     "name": "stdout",
     "output_type": "stream",
     "text": [
      "<class 'pandas.core.frame.DataFrame'>\n",
      "RangeIndex: 1345 entries, 0 to 1344\n",
      "Data columns (total 8 columns):\n",
      "Sno               1345 non-null int64\n",
      "Date              1345 non-null object\n",
      "Province/State    992 non-null object\n",
      "Country           1345 non-null object\n",
      "Last Update       1345 non-null object\n",
      "Confirmed         1345 non-null float64\n",
      "Deaths            1345 non-null float64\n",
      "Recovered         1345 non-null float64\n",
      "dtypes: float64(3), int64(1), object(4)\n",
      "memory usage: 84.1+ KB\n"
     ]
    }
   ],
   "source": [
    "#getting a summary of the columns\n",
    "data.info()"
   ]
  },
  {
   "cell_type": "code",
   "execution_count": 7,
   "metadata": {},
   "outputs": [],
   "source": [
    "#dropping the 1st and 5th column\n",
    "data.drop(\"Sno\", axis=1, inplace=True)\n",
    "data.drop(\"Last Update\", axis=1, inplace=True)"
   ]
  },
  {
   "cell_type": "code",
   "execution_count": 8,
   "metadata": {},
   "outputs": [
    {
     "data": {
      "text/html": [
       "<div>\n",
       "<style scoped>\n",
       "    .dataframe tbody tr th:only-of-type {\n",
       "        vertical-align: middle;\n",
       "    }\n",
       "\n",
       "    .dataframe tbody tr th {\n",
       "        vertical-align: top;\n",
       "    }\n",
       "\n",
       "    .dataframe thead th {\n",
       "        text-align: right;\n",
       "    }\n",
       "</style>\n",
       "<table border=\"1\" class=\"dataframe\">\n",
       "  <thead>\n",
       "    <tr style=\"text-align: right;\">\n",
       "      <th></th>\n",
       "      <th>Confirmed</th>\n",
       "      <th>Deaths</th>\n",
       "      <th>Recovered</th>\n",
       "    </tr>\n",
       "  </thead>\n",
       "  <tbody>\n",
       "    <tr>\n",
       "      <th>count</th>\n",
       "      <td>1345.000000</td>\n",
       "      <td>1345.000000</td>\n",
       "      <td>1345.000000</td>\n",
       "    </tr>\n",
       "    <tr>\n",
       "      <th>mean</th>\n",
       "      <td>324.628253</td>\n",
       "      <td>7.160595</td>\n",
       "      <td>21.035688</td>\n",
       "    </tr>\n",
       "    <tr>\n",
       "      <th>std</th>\n",
       "      <td>2445.132634</td>\n",
       "      <td>71.508144</td>\n",
       "      <td>154.827747</td>\n",
       "    </tr>\n",
       "    <tr>\n",
       "      <th>min</th>\n",
       "      <td>0.000000</td>\n",
       "      <td>0.000000</td>\n",
       "      <td>0.000000</td>\n",
       "    </tr>\n",
       "    <tr>\n",
       "      <th>25%</th>\n",
       "      <td>2.000000</td>\n",
       "      <td>0.000000</td>\n",
       "      <td>0.000000</td>\n",
       "    </tr>\n",
       "    <tr>\n",
       "      <th>50%</th>\n",
       "      <td>11.000000</td>\n",
       "      <td>0.000000</td>\n",
       "      <td>0.000000</td>\n",
       "    </tr>\n",
       "    <tr>\n",
       "      <th>75%</th>\n",
       "      <td>91.000000</td>\n",
       "      <td>0.000000</td>\n",
       "      <td>3.000000</td>\n",
       "    </tr>\n",
       "    <tr>\n",
       "      <th>max</th>\n",
       "      <td>48206.000000</td>\n",
       "      <td>1310.000000</td>\n",
       "      <td>3441.000000</td>\n",
       "    </tr>\n",
       "  </tbody>\n",
       "</table>\n",
       "</div>"
      ],
      "text/plain": [
       "          Confirmed       Deaths    Recovered\n",
       "count   1345.000000  1345.000000  1345.000000\n",
       "mean     324.628253     7.160595    21.035688\n",
       "std     2445.132634    71.508144   154.827747\n",
       "min        0.000000     0.000000     0.000000\n",
       "25%        2.000000     0.000000     0.000000\n",
       "50%       11.000000     0.000000     0.000000\n",
       "75%       91.000000     0.000000     3.000000\n",
       "max    48206.000000  1310.000000  3441.000000"
      ]
     },
     "execution_count": 8,
     "metadata": {},
     "output_type": "execute_result"
    }
   ],
   "source": [
    "data.describe()"
   ]
  },
  {
   "cell_type": "code",
   "execution_count": 9,
   "metadata": {},
   "outputs": [
    {
     "data": {
      "text/html": [
       "<div>\n",
       "<style scoped>\n",
       "    .dataframe tbody tr th:only-of-type {\n",
       "        vertical-align: middle;\n",
       "    }\n",
       "\n",
       "    .dataframe tbody tr th {\n",
       "        vertical-align: top;\n",
       "    }\n",
       "\n",
       "    .dataframe thead th {\n",
       "        text-align: right;\n",
       "    }\n",
       "</style>\n",
       "<table border=\"1\" class=\"dataframe\">\n",
       "  <thead>\n",
       "    <tr style=\"text-align: right;\">\n",
       "      <th></th>\n",
       "      <th>Date</th>\n",
       "      <th>Province/State</th>\n",
       "      <th>Country</th>\n",
       "      <th>Confirmed</th>\n",
       "      <th>Deaths</th>\n",
       "      <th>Recovered</th>\n",
       "    </tr>\n",
       "  </thead>\n",
       "  <tbody>\n",
       "  </tbody>\n",
       "</table>\n",
       "</div>"
      ],
      "text/plain": [
       "Empty DataFrame\n",
       "Columns: [Date, Province/State, Country, Confirmed, Deaths, Recovered]\n",
       "Index: []"
      ]
     },
     "execution_count": 9,
     "metadata": {},
     "output_type": "execute_result"
    }
   ],
   "source": [
    "#checking for duplicate rows\n",
    "duplicate_rows=data.duplicated(['Country','Province/State','Date'])\n",
    "data[duplicate_rows]"
   ]
  },
  {
   "cell_type": "code",
   "execution_count": 10,
   "metadata": {},
   "outputs": [
    {
     "name": "stdout",
     "output_type": "stream",
     "text": [
      "['China', 'US', 'Japan', 'Thailand', 'South Korea', 'Mainland China', 'Hong Kong', 'Macau', 'Taiwan', 'Singapore', 'Philippines', 'Malaysia', 'Vietnam', 'Australia', 'Mexico', 'Brazil', 'France', 'Nepal', 'Canada', 'Cambodia', 'Sri Lanka', 'Ivory Coast', 'Germany', 'Finland', 'United Arab Emirates', 'India', 'Italy', 'Sweden', 'Russia', 'Spain', 'UK', 'Belgium', 'Others']\n",
      "33\n"
     ]
    }
   ],
   "source": [
    "#listing all the countries where the virus has spread to\n",
    "country_list=list(data['Country'].unique())\n",
    "print(country_list)\n",
    "print(len(country_list))"
   ]
  },
  {
   "cell_type": "code",
   "execution_count": 11,
   "metadata": {},
   "outputs": [],
   "source": [
    "#merging China and Mainland China\n",
    "data.loc[data['Country']=='Mainland China','Country']='China'"
   ]
  },
  {
   "cell_type": "code",
   "execution_count": 12,
   "metadata": {},
   "outputs": [
    {
     "data": {
      "text/plain": [
       "02/11/2020 20:44:00    73\n",
       "02/12/2020 22:00:00    73\n",
       "02/08/2020 23:04:00    72\n",
       "02/09/2020 23:20:00    72\n",
       "02/10/2020 19:30:00    72\n",
       "02/07/2020 20:24:00    72\n",
       "02/06/2020 20:05:00    71\n",
       "02/04/2020 22:00:00    70\n",
       "02/05/2020 12:20:00    70\n",
       "02/03/2020 21:40:00    69\n",
       "02/02/2020 21:00:00    67\n",
       "02/01/2020 23:00:00    67\n",
       "01/31/2020 19:00:00    63\n",
       "01/30/2020 21:30:00    59\n",
       "01/29/2020 21:00:00    56\n",
       "01/27/2020 20:30:00    52\n",
       "01/28/2020 23:00:00    52\n",
       "01/26/2020 23:00:00    47\n",
       "01/23/2020 12:00:00    45\n",
       "01/25/2020 22:00:00    44\n",
       "01/24/2020 12:00:00    41\n",
       "01/22/2020 12:00:00    38\n",
       "Name: Date, dtype: int64"
      ]
     },
     "execution_count": 12,
     "metadata": {},
     "output_type": "execute_result"
    }
   ],
   "source": [
    "data['Date'].value_counts()\n"
   ]
  },
  {
   "cell_type": "code",
   "execution_count": 13,
   "metadata": {},
   "outputs": [
    {
     "data": {
      "text/plain": [
       "22"
      ]
     },
     "execution_count": 13,
     "metadata": {},
     "output_type": "execute_result"
    }
   ],
   "source": [
    "data['Date'].nunique()"
   ]
  },
  {
   "cell_type": "code",
   "execution_count": 14,
   "metadata": {},
   "outputs": [
    {
     "data": {
      "text/plain": [
       "0    2020-01-22\n",
       "1    2020-01-22\n",
       "2    2020-01-22\n",
       "3    2020-01-22\n",
       "4    2020-01-22\n",
       "Name: Date_date, dtype: object"
      ]
     },
     "execution_count": 14,
     "metadata": {},
     "output_type": "execute_result"
    }
   ],
   "source": [
    "#converting 'Date' column to datetime object\n",
    "data['Date'] = pd.to_datetime(data['Date'])\n",
    "#extracting dates from timestamps\n",
    "data['Date_date']=data['Date'].apply(lambda x:x.date())\n",
    "data['Date_date'].head()"
   ]
  },
  {
   "cell_type": "code",
   "execution_count": 15,
   "metadata": {},
   "outputs": [
    {
     "name": "stdout",
     "output_type": "stream",
     "text": [
      "                 Country  Confirmed  Deaths  Recovered\n",
      "0              Australia        5.0     0.0        2.0\n",
      "1                Belgium        1.0     0.0        0.0\n",
      "2                 Brazil        0.0     0.0        0.0\n",
      "3               Cambodia        1.0     0.0        1.0\n",
      "4                 Canada        4.0     0.0        1.0\n",
      "5                  China    48206.0  1310.0     3441.0\n",
      "6                Finland        1.0     0.0        1.0\n",
      "7                 France       11.0     0.0        2.0\n",
      "8                Germany       16.0     0.0        0.0\n",
      "9              Hong Kong       50.0     1.0        1.0\n",
      "10                 India        3.0     0.0        0.0\n",
      "11                 Italy        3.0     0.0        0.0\n",
      "12           Ivory Coast        0.0     0.0        0.0\n",
      "13                 Japan       45.0     0.0        9.0\n",
      "14                 Macau       10.0     0.0        2.0\n",
      "15              Malaysia       18.0     0.0        3.0\n",
      "16                Mexico        0.0     0.0        0.0\n",
      "17                 Nepal        1.0     0.0        1.0\n",
      "18                Others      175.0     0.0        0.0\n",
      "19           Philippines        3.0     1.0        1.0\n",
      "20                Russia        2.0     0.0        2.0\n",
      "21             Singapore       50.0     0.0       15.0\n",
      "22           South Korea       28.0     0.0        7.0\n",
      "23                 Spain        2.0     0.0        0.0\n",
      "24             Sri Lanka        1.0     0.0        1.0\n",
      "25                Sweden        1.0     0.0        0.0\n",
      "26                Taiwan       18.0     0.0        1.0\n",
      "27              Thailand       33.0     0.0       10.0\n",
      "28                    UK        9.0     0.0        1.0\n",
      "29                    US        3.0     0.0        2.0\n",
      "30  United Arab Emirates        8.0     0.0        1.0\n",
      "31               Vietnam       15.0     0.0        6.0\n"
     ]
    }
   ],
   "source": [
    "#getting the total number of confirmed cases for each country\n",
    "df_country=data.groupby(['Country']).max().reset_index(drop=None)\n",
    "print(df_country[['Country','Confirmed','Deaths','Recovered']])"
   ]
  },
  {
   "cell_type": "code",
   "execution_count": 16,
   "metadata": {},
   "outputs": [
    {
     "name": "stdout",
     "output_type": "stream",
     "text": [
      "     Date_date  Confirmed  Deaths  Recovered  daily_cases  daily_deaths  \\\n",
      "0   2020-01-22      555.0     0.0        0.0          NaN           NaN   \n",
      "1   2020-01-23      653.0    18.0       30.0         98.0          18.0   \n",
      "2   2020-01-24      941.0    26.0       36.0        288.0           8.0   \n",
      "3   2020-01-25     2019.0    56.0       49.0       1078.0          30.0   \n",
      "4   2020-01-26     2794.0    80.0       54.0        775.0          24.0   \n",
      "5   2020-01-27     4473.0   107.0       63.0       1679.0          27.0   \n",
      "6   2020-01-28     6057.0   132.0      110.0       1584.0          25.0   \n",
      "7   2020-01-29     7783.0   170.0      133.0       1726.0          38.0   \n",
      "8   2020-01-30     9776.0   213.0      187.0       1993.0          43.0   \n",
      "9   2020-01-31    11374.0   259.0      252.0       1598.0          46.0   \n",
      "10  2020-02-01    14549.0   305.0      340.0       3175.0          46.0   \n",
      "11  2020-02-02    17295.0   362.0      487.0       2746.0          57.0   \n",
      "12  2020-02-03    20588.0   426.0      644.0       3293.0          64.0   \n",
      "13  2020-02-04    24503.0   492.0      899.0       3915.0          66.0   \n",
      "14  2020-02-05    24630.0   494.0     1029.0        127.0           2.0   \n",
      "15  2020-02-06    30806.0   634.0     1487.0       6176.0         140.0   \n",
      "16  2020-02-07    31532.0   638.0     1763.0        726.0           4.0   \n",
      "17  2020-02-08    37549.0   813.0     2701.0       6017.0         175.0   \n",
      "18  2020-02-09    40536.0   910.0     3312.0       2987.0          97.0   \n",
      "19  2020-02-10    42767.0  1013.0     3950.0       2231.0         103.0   \n",
      "20  2020-02-11    45117.0  1115.0     4781.0       2350.0         102.0   \n",
      "21  2020-02-12    60328.0  1368.0     5986.0      15211.0         253.0   \n",
      "\n",
      "    daily_recoveries  \n",
      "0                NaN  \n",
      "1               30.0  \n",
      "2                6.0  \n",
      "3               13.0  \n",
      "4                5.0  \n",
      "5                9.0  \n",
      "6               47.0  \n",
      "7               23.0  \n",
      "8               54.0  \n",
      "9               65.0  \n",
      "10              88.0  \n",
      "11             147.0  \n",
      "12             157.0  \n",
      "13             255.0  \n",
      "14             130.0  \n",
      "15             458.0  \n",
      "16             276.0  \n",
      "17             938.0  \n",
      "18             611.0  \n",
      "19             638.0  \n",
      "20             831.0  \n",
      "21            1205.0  \n"
     ]
    }
   ],
   "source": [
    "#preparing data for a time-series analysis\n",
    "df_by_date=data.groupby(['Date_date']).sum().reset_index(drop=None)\n",
    "df_by_date['daily_cases']=df_by_date.Confirmed.diff()\n",
    "df_by_date['daily_deaths']=df_by_date.Deaths.diff()\n",
    "df_by_date['daily_recoveries']=df_by_date.Recovered.diff()\n",
    "print(df_by_date)"
   ]
  },
  {
   "cell_type": "code",
   "execution_count": 17,
   "metadata": {},
   "outputs": [
    {
     "data": {
      "text/plain": [
       "Text(0.5, 0, 'Dates')"
      ]
     },
     "execution_count": 17,
     "metadata": {},
     "output_type": "execute_result"
    },
    {
     "data": {
      "image/png": "[encoded data removed]",
      "text/plain": [
       "<Figure size 432x288 with 1 Axes>"
      ]
     },
     "metadata": {
      "needs_background": "light"
     },
     "output_type": "display_data"
    }
   ],
   "source": [
    "#plotting a bar chart of confirmed cases over time\n",
    "sns.axes_style(\"whitegrid\")\n",
    "sns.barplot(\n",
    "x=\"Date_date\", \n",
    "y=\"Confirmed\", data=data.groupby(['Date_date']).sum().reset_index(drop=None)\n",
    ")\n",
    "plt.xticks(rotation=60)\n",
    "plt.ylabel('Number of confirmed cases',fontsize=15)\n",
    "plt.xlabel('Dates',fontsize=15)"
   ]
  },
  {
   "cell_type": "code",
   "execution_count": 18,
   "metadata": {},
   "outputs": [
    {
     "name": "stderr",
     "output_type": "stream",
     "text": [
      "C:\\Users\\LENOVO\\Anaconda3\\lib\\site-packages\\pandas\\plotting\\_converter.py:129: FutureWarning: Using an implicitly registered datetime converter for a matplotlib plotting method. The converter was registered by pandas on import. Future versions of pandas will require you to explicitly register matplotlib converters.\n",
      "\n",
      "To register the converters:\n",
      "\t>>> from pandas.plotting import register_matplotlib_converters\n",
      "\t>>> register_matplotlib_converters()\n",
      "  warnings.warn(msg, FutureWarning)\n"
     ]
    },
    {
     "data": {
      "image/png": "[encoded data removed]",
      "text/plain": [
       "<Figure size 432x288 with 1 Axes>"
      ]
     },
     "metadata": {
      "needs_background": "light"
     },
     "output_type": "display_data"
    }
   ],
   "source": [
    "#plotting two line plots for deaths and recoveries respectively\n",
    "plt.plot('Date_date', 'Deaths',\n",
    "data=data.groupby(['Date_date']).sum().reset_index(drop=None), color='red')\n",
    "\n",
    "plt.plot('Date_date', 'Recovered', \n",
    "data=data.groupby(['Date_date']).sum().reset_index(drop=None), color='green')\n",
    "\n",
    "plt.xticks(rotation=60)\n",
    "plt.ylabel('Number of cases',fontsize=15)\n",
    "plt.xlabel('Date',fontsize=15)\n",
    "plt.legend()\n",
    "plt.show()\n"
   ]
  },
  {
   "cell_type": "code",
   "execution_count": 19,
   "metadata": {},
   "outputs": [
    {
     "data": {
      "text/plain": [
       "(array([  0.,  25.,  50.,  75., 100., 125., 150., 175., 200.]),\n",
       " <a list of 9 Text yticklabel objects>)"
      ]
     },
     "execution_count": 19,
     "metadata": {},
     "output_type": "execute_result"
    },
    {
     "data": {
      "image/png": "[encoded data removed]",
      "text/plain": [
       "<Figure size 1080x504 with 1 Axes>"
      ]
     },
     "metadata": {
      "needs_background": "light"
     },
     "output_type": "display_data"
    }
   ],
   "source": [
    "#We know that China is the most affected country by a large margin, #so lets create a bar plot to compare countries other than China\n",
    "#increasing the figure size\n",
    "plt.rcParams['figure.figsize']=(15,7)\n",
    "sns.barplot(\n",
    "x=\"Country\",\n",
    "y=\"Confirmed\",\n",
    "data=df_country[df_country.Country!='China'].nlargest(10,'Confirmed'),\n",
    "palette=sns.cubehelix_palette(15, reverse=True)\n",
    ")\n",
    "plt.ylabel('Number of cases',fontsize=15)\n",
    "plt.xlabel('Countries',fontsize=15)\n",
    "plt.xticks(fontsize=13)\n",
    "plt.yticks(fontsize=13)"
   ]
  },
  {
   "cell_type": "code",
   "execution_count": 20,
   "metadata": {},
   "outputs": [
    {
     "data": {
      "image/png": "[encoded data removed]",
      "text/plain": [
       "<Figure size 1080x504 with 1 Axes>"
      ]
     },
     "metadata": {
      "needs_background": "light"
     },
     "output_type": "display_data"
    }
   ],
   "source": [
    "#The mortality rate, at any point in time, can be roughly calculated #by dividing the number of deaths by the number of confirmed cases\n",
    "df_by_date['mrate']=df_by_date.apply(lambda x: x['Deaths']*100/(x['Confirmed']), axis=1)\n",
    "plt.plot('Date_date','mrate',data=df_by_date, color='red')\n",
    "plt.show()"
   ]
  },
  {
   "cell_type": "code",
   "execution_count": 21,
   "metadata": {},
   "outputs": [
    {
     "data": {
      "text/plain": [
       "Text(0, 0.5, 'Number of cases')"
      ]
     },
     "execution_count": 21,
     "metadata": {},
     "output_type": "execute_result"
    },
    {
     "data": {
      "image/png": "[encoded data removed]",
      "text/plain": [
       "<Figure size 1080x504 with 1 Axes>"
      ]
     },
     "metadata": {
      "needs_background": "light"
     },
     "output_type": "display_data"
    }
   ],
   "source": [
    "#creating a separate dataframe for provinces\n",
    "df_province=data[data['Country']=='China'].groupby(['Province/State']).max().reset_index(drop=None)\n",
    "#selecting 10 most affected provinces\n",
    "df_province=df_province.nlargest(10,'Confirmed')\n",
    "df_province=df_province[['Province/State','Deaths','Recovered']]\n",
    "#for multi-bar plots in seaborn, we need to melt the dataframe so #that the the deaths and recovered values are in the same column\n",
    "df_province= df_province.melt(id_vars=['Province/State'])\n",
    "\n",
    "sns.barplot(\n",
    "x='Province/State', \n",
    "y='value', \n",
    "hue='variable', \n",
    "data=df_province\n",
    ")\n",
    "plt.xlabel('Provinces',fontsize=15)\n",
    "plt.ylabel('Number of cases',fontsize=15)\n"
   ]
  },
  {
   "cell_type": "code",
   "execution_count": null,
   "metadata": {},
   "outputs": [],
   "source": []
  }
 ],
 "metadata": {
  "kernelspec": {
   "display_name": "Python 3",
   "language": "python",
   "name": "python3"
  },
  "language_info": {
   "codemirror_mode": {
    "name": "ipython",
    "version": 3
   },
   "file_extension": ".py",
   "mimetype": "text/x-python",
   "name": "python",
   "nbconvert_exporter": "python",
   "pygments_lexer": "ipython3",
   "version": "3.7.1"
  }
 },
 "nbformat": 4,
 "nbformat_minor": 2
}
